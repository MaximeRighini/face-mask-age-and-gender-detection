{
 "cells": [
  {
   "cell_type": "code",
   "execution_count": 1,
   "id": "367c49a9-96e8-4092-b494-a19c0b7b37f0",
   "metadata": {},
   "outputs": [],
   "source": [
    "import cv2\n",
    "import numpy as np\n",
    "import tensorflow as tf"
   ]
  },
  {
   "cell_type": "code",
   "execution_count": 2,
   "id": "2b768acc-64b5-4fc3-9635-a4a31d85d67a",
   "metadata": {},
   "outputs": [],
   "source": [
    "face_mask_detector = tf.keras.models.load_model('../Models/face_mask_detector.h5')\n",
    "age_gender_detector = tf.keras.models.load_model('../Models/age_gender_detector.h5')"
   ]
  },
  {
   "cell_type": "code",
   "execution_count": 3,
   "id": "358e016a-b02e-456c-9edb-aad4cc54876a",
   "metadata": {},
   "outputs": [
    {
     "name": "stdout",
     "output_type": "stream",
     "text": [
      "Model: \"sequential\"\n",
      "_________________________________________________________________\n",
      "Layer (type)                 Output Shape              Param #   \n",
      "=================================================================\n",
      "vgg16 (Functional)           (None, None, None, 512)   14714688  \n",
      "_________________________________________________________________\n",
      "global_average_pooling2d (Gl (None, 512)               0         \n",
      "_________________________________________________________________\n",
      "flatten (Flatten)            (None, 512)               0         \n",
      "_________________________________________________________________\n",
      "dropout (Dropout)            (None, 512)               0         \n",
      "_________________________________________________________________\n",
      "dense (Dense)                (None, 32)                16416     \n",
      "_________________________________________________________________\n",
      "dense_1 (Dense)              (None, 32)                1056      \n",
      "_________________________________________________________________\n",
      "dropout_1 (Dropout)          (None, 32)                0         \n",
      "_________________________________________________________________\n",
      "dense_2 (Dense)              (None, 32)                1056      \n",
      "_________________________________________________________________\n",
      "dense_3 (Dense)              (None, 1)                 33        \n",
      "=================================================================\n",
      "Total params: 14,733,249\n",
      "Trainable params: 18,561\n",
      "Non-trainable params: 14,714,688\n",
      "_________________________________________________________________\n"
     ]
    }
   ],
   "source": [
    "face_mask_detector.summary()"
   ]
  },
  {
   "cell_type": "code",
   "execution_count": 4,
   "id": "25cc2213-1fcc-48a2-963e-f1f87bd01c9f",
   "metadata": {},
   "outputs": [
    {
     "name": "stdout",
     "output_type": "stream",
     "text": [
      "Model: \"model\"\n",
      "__________________________________________________________________________________________________\n",
      "Layer (type)                    Output Shape         Param #     Connected to                     \n",
      "==================================================================================================\n",
      "input_1 (InputLayer)            [(None, 48, 48, 1)]  0                                            \n",
      "__________________________________________________________________________________________________\n",
      "conv2d (Conv2D)                 (None, 44, 44, 30)   780         input_1[0][0]                    \n",
      "__________________________________________________________________________________________________\n",
      "conv2d_2 (Conv2D)               (None, 44, 44, 30)   780         input_1[0][0]                    \n",
      "__________________________________________________________________________________________________\n",
      "max_pooling2d (MaxPooling2D)    (None, 14, 14, 30)   0           conv2d[0][0]                     \n",
      "__________________________________________________________________________________________________\n",
      "max_pooling2d_2 (MaxPooling2D)  (None, 14, 14, 30)   0           conv2d_2[0][0]                   \n",
      "__________________________________________________________________________________________________\n",
      "conv2d_1 (Conv2D)               (None, 12, 12, 32)   8672        max_pooling2d[0][0]              \n",
      "__________________________________________________________________________________________________\n",
      "conv2d_3 (Conv2D)               (None, 12, 12, 32)   8672        max_pooling2d_2[0][0]            \n",
      "__________________________________________________________________________________________________\n",
      "max_pooling2d_1 (MaxPooling2D)  (None, 6, 6, 32)     0           conv2d_1[0][0]                   \n",
      "__________________________________________________________________________________________________\n",
      "max_pooling2d_3 (MaxPooling2D)  (None, 6, 6, 32)     0           conv2d_3[0][0]                   \n",
      "__________________________________________________________________________________________________\n",
      "dropout (Dropout)               (None, 6, 6, 32)     0           max_pooling2d_1[0][0]            \n",
      "__________________________________________________________________________________________________\n",
      "dropout_2 (Dropout)             (None, 6, 6, 32)     0           max_pooling2d_3[0][0]            \n",
      "__________________________________________________________________________________________________\n",
      "flatten (Flatten)               (None, 1152)         0           dropout[0][0]                    \n",
      "__________________________________________________________________________________________________\n",
      "flatten_1 (Flatten)             (None, 1152)         0           dropout_2[0][0]                  \n",
      "__________________________________________________________________________________________________\n",
      "dense (Dense)                   (None, 64)           73792       flatten[0][0]                    \n",
      "__________________________________________________________________________________________________\n",
      "dense_1 (Dense)                 (None, 64)           73792       flatten_1[0][0]                  \n",
      "__________________________________________________________________________________________________\n",
      "dropout_1 (Dropout)             (None, 64)           0           dense[0][0]                      \n",
      "__________________________________________________________________________________________________\n",
      "dropout_3 (Dropout)             (None, 64)           0           dense_1[0][0]                    \n",
      "__________________________________________________________________________________________________\n",
      "gender_output (Dense)           (None, 1)            65          dropout_1[0][0]                  \n",
      "__________________________________________________________________________________________________\n",
      "age_output (Dense)              (None, 1)            65          dropout_3[0][0]                  \n",
      "==================================================================================================\n",
      "Total params: 166,618\n",
      "Trainable params: 166,618\n",
      "Non-trainable params: 0\n",
      "__________________________________________________________________________________________________\n"
     ]
    }
   ],
   "source": [
    "age_gender_detector.summary()"
   ]
  },
  {
   "cell_type": "code",
   "execution_count": 5,
   "id": "7ec264d4-d2e6-415a-8ecb-5df88b04169f",
   "metadata": {},
   "outputs": [],
   "source": [
    "face_detector = cv2.CascadeClassifier(cv2.data.haarcascades + 'haarcascade_frontalface_default.xml')"
   ]
  },
  {
   "cell_type": "code",
   "execution_count": 7,
   "id": "f2da9e88-da6c-4944-97e3-fcfda29fa605",
   "metadata": {},
   "outputs": [],
   "source": [
    "color_dict = {0: (0, 255, 0), 1: (0, 0, 255)}\n",
    "gender_dict = {0: \"Man\", 1: \"Woman\"}\n",
    "age_max = 116\n",
    "\n",
    "def get_optimal_font_scale(text, width):\n",
    "    for scale in reversed(range(0, 60, 1)):\n",
    "        textSize = cv2.getTextSize(text, fontFace=cv2.FONT_HERSHEY_DUPLEX, fontScale=scale/10, thickness=1)\n",
    "        new_width = textSize[0][0]\n",
    "        if (new_width <= width):\n",
    "            return min(1, scale/10)\n",
    "    return 1\n",
    "\n",
    "webcam = cv2.VideoCapture(0)\n",
    "\n",
    "while True:\n",
    "    _, img = webcam.read()\n",
    "    img = cv2.flip(img, 1, 1)\n",
    "    gray = cv2.cvtColor(img, cv2.COLOR_RGB2GRAY)\n",
    "    faces = face_detector.detectMultiScale(gray)\n",
    "    \n",
    "    for (x, y, w, h) in faces:\n",
    "        # mask detection\n",
    "        face_img = img[y:y+w, x:x+w]\n",
    "        resized_mask = cv2.resize(face_img, (224, 224))\n",
    "        reshaped_mask = np.reshape(resized_mask,(1, 224, 224, 3))\n",
    "        pred_mask = face_mask_detector.predict(reshaped_mask).round()[0][0]\n",
    "        \n",
    "        cv2.rectangle(img, (x, y), (x+w, y+h), color_dict[pred_mask], 2)\n",
    "        cv2.rectangle(img,(x,y-40),(x+w, y), color_dict[pred_mask], -1)\n",
    "        \n",
    "        # age and gender detection\n",
    "        face_img_gray = gray[y:y+w, x:x+w]\n",
    "        resized_age_gender = cv2.resize(face_img_gray, (48, 48))\n",
    "        reshaped_age_gender = np.reshape(resized_age_gender,(1, 48,48,1))\n",
    "        pred_age_gender = age_gender_detector.predict(reshaped_age_gender/255)\n",
    "        \n",
    "        font = cv2.FONT_HERSHEY_SIMPLEX\n",
    "        if pred_mask == 1:\n",
    "            text = \"NO MASK - \" \\\n",
    "                   + str(int(round(pred_age_gender[1][0][0]*age_max))) \\\n",
    "                   + \" year old \" \\\n",
    "                   + gender_dict[pred_age_gender[0][0][0].round()]\n",
    "            fontscale = get_optimal_font_scale(text, w)\n",
    "            textsize = cv2.getTextSize(text, font, fontscale, 2)[0]\n",
    "            center_x = int((w-textsize[0]) / 2)\n",
    "            center_y = int((40-textsize[1]) / 2)\n",
    "            cv2.putText(img, text, (x+center_x, y-center_y), font, fontscale, (255, 255, 255), 2)\n",
    "        else:\n",
    "            text = \"MASK\"\n",
    "            fontscale = get_optimal_font_scale(text, w)\n",
    "            textsize = cv2.getTextSize(text, font, fontscale, 2)[0]\n",
    "            center_x = int((w-textsize[0]) / 2)\n",
    "            center_y = int((40-textsize[1]) / 2)\n",
    "            cv2.putText(img, text, (x+center_x, y-center_y), font, fontscale, (255, 255, 255), 2)\n",
    "            \n",
    "        \n",
    "    if img is not None:   \n",
    "        cv2.imshow(\"Video Feed\", img)\n",
    "    key = cv2.waitKey(10)\n",
    "    \n",
    "    # Exit\n",
    "    if key == 27: #The Esc key\n",
    "        break\n",
    "        \n",
    "# Stop video\n",
    "webcam.release()\n",
    "\n",
    "# Close all windows\n",
    "cv2.destroyAllWindows()"
   ]
  }
 ],
 "metadata": {
  "kernelspec": {
   "display_name": "Python 3 (ipykernel)",
   "language": "python",
   "name": "python3"
  },
  "language_info": {
   "codemirror_mode": {
    "name": "ipython",
    "version": 3
   },
   "file_extension": ".py",
   "mimetype": "text/x-python",
   "name": "python",
   "nbconvert_exporter": "python",
   "pygments_lexer": "ipython3",
   "version": "3.9.7"
  }
 },
 "nbformat": 4,
 "nbformat_minor": 5
}
